{
 "cells": [
  {
   "cell_type": "code",
   "execution_count": 2,
   "id": "cd914108",
   "metadata": {},
   "outputs": [
    {
     "name": "stdout",
     "output_type": "stream",
     "text": [
      "Chi-Square Statistic: 5.64\n",
      "P-value: 0.23\n",
      "Degrees of Freedom: 4\n",
      "Critical Value (for alpha = 0.05): 9.49\n",
      "Fail to reject the null hypothesis: There is no significant association between the device type and customer satisfaction.\n"
     ]
    }
   ],
   "source": [
    "#Chi-Square test\n",
    "import numpy as np\n",
    "from scipy.stats import chi2_contingency, chi2\n",
    "\n",
    "# Step 1: Define the observed data\n",
    "observed = np.array([\n",
    "    [50, 70],\n",
    "    [80, 100],\n",
    "    [60, 90],\n",
    "    [30, 50],\n",
    "    [20, 50]\n",
    "])\n",
    "\n",
    "# Step 2: Compute the Chi-Square statistic and p-value\n",
    "chi2_stat, p_value, dof, expected = chi2_contingency(observed)\n",
    "\n",
    "# Step 3: Determine the critical value\n",
    "alpha = 0.05\n",
    "critical_value = chi2.ppf(1 - alpha, dof)\n",
    "\n",
    "# Step 4: Output the results\n",
    "print(f\"Chi-Square Statistic: {chi2_stat:.2f}\")\n",
    "print(f\"P-value: {p_value:.2f}\")\n",
    "print(f\"Degrees of Freedom: {dof}\")\n",
    "print(f\"Critical Value (for alpha = {alpha}): {critical_value:.2f}\")\n",
    "\n",
    "# Decision\n",
    "if chi2_stat > critical_value:\n",
    "    print(\"Reject the null hypothesis: There is a significant association between the device type and customer satisfaction.\")\n",
    "else:\n",
    "    print(\"Fail to reject the null hypothesis: There is no significant association between the device type and customer satisfaction.\")\n"
   ]
  },
  {
   "cell_type": "code",
   "execution_count": 3,
   "id": "c8eb3d8c",
   "metadata": {},
   "outputs": [
    {
     "name": "stdout",
     "output_type": "stream",
     "text": [
      "Test Statistic: -38.00\n",
      "Critical Value (Z) for alpha = 0.05: 1.64\n",
      "Reject the null hypothesis: There is strong evidence that the weekly operating costs are higher than the model suggests.\n"
     ]
    }
   ],
   "source": [
    "#hypothesis testing\n",
    "import scipy.stats as stats\n",
    "\n",
    "# Given data\n",
    "sample_mean_cost = 3050\n",
    "X = 600\n",
    "theoretical_mean_cost = 1000 + 5 * X\n",
    "std_dev_X = 25\n",
    "n = 25\n",
    "\n",
    "# Calculate Standard Errors\n",
    "std_error = (std_dev_X * 5) / (n ** 0.5)\n",
    "\n",
    "# Calculate Test Statistic\n",
    "test_statistic = (sample_mean_cost - theoretical_mean_cost) / std_error\n",
    "\n",
    "# Determine Critical Value (for one-tailed test with alpha = 0.05)\n",
    "alpha = 0.05\n",
    "critical_value = stats.norm.ppf(1 - alpha)\n",
    "\n",
    "# Print the results\n",
    "print(f\"Test Statistic: {test_statistic:.2f}\")\n",
    "print(f\"Critical Value (Z) for alpha = {alpha}: {critical_value:.2f}\")\n",
    "\n",
    "# Decision\n",
    "if test_statistic < -critical_value:\n",
    "    print(\"Reject the null hypothesis: There is strong evidence that the weekly operating costs are higher than the model suggests.\")\n",
    "else:\n",
    "    print(\"Fail to reject the null hypothesis: There is not enough evidence to support that the weekly operating costs are higher than the model suggests.\")\n"
   ]
  },
  {
   "cell_type": "code",
   "execution_count": null,
   "id": "f7663946",
   "metadata": {},
   "outputs": [],
   "source": []
  }
 ],
 "metadata": {
  "kernelspec": {
   "display_name": "Python 3 (ipykernel)",
   "language": "python",
   "name": "python3"
  },
  "language_info": {
   "codemirror_mode": {
    "name": "ipython",
    "version": 3
   },
   "file_extension": ".py",
   "mimetype": "text/x-python",
   "name": "python",
   "nbconvert_exporter": "python",
   "pygments_lexer": "ipython3",
   "version": "3.11.5"
  }
 },
 "nbformat": 4,
 "nbformat_minor": 5
}
